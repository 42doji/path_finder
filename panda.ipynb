{
 "cells": [
  {
   "cell_type": "code",
   "id": "a202d48a0f4fde4",
   "metadata": {
    "ExecuteTime": {
     "end_time": "2025-07-18T21:52:34.019474Z",
     "start_time": "2025-07-18T21:52:32.188151Z"
    }
   },
   "source": "import pandas as pd",
   "outputs": [],
   "execution_count": 1
  },
  {
   "metadata": {
    "ExecuteTime": {
     "end_time": "2025-07-18T21:54:57.173464Z",
     "start_time": "2025-07-18T21:54:57.170725Z"
    }
   },
   "cell_type": "code",
   "source": "l = range(1, 6)",
   "id": "b82b60b15ae41be0",
   "outputs": [],
   "execution_count": 8
  },
  {
   "metadata": {
    "ExecuteTime": {
     "end_time": "2025-07-18T21:54:57.555767Z",
     "start_time": "2025-07-18T21:54:57.552847Z"
    }
   },
   "cell_type": "code",
   "source": "index = [\"a\", \"b\", \"c\", \"d\", \"e\"]",
   "id": "8c10ae162c4a78fc",
   "outputs": [],
   "execution_count": 9
  },
  {
   "metadata": {
    "ExecuteTime": {
     "end_time": "2025-07-18T21:55:02.987043Z",
     "start_time": "2025-07-18T21:55:02.983484Z"
    }
   },
   "cell_type": "code",
   "source": "arr = pd.Series(l, index)",
   "id": "54f051bd0636fe8d",
   "outputs": [],
   "execution_count": 10
  },
  {
   "metadata": {
    "ExecuteTime": {
     "end_time": "2025-07-18T21:55:04.009758Z",
     "start_time": "2025-07-18T21:55:04.006069Z"
    }
   },
   "cell_type": "code",
   "source": "print(arr)",
   "id": "dbd2b586f043410a",
   "outputs": [
    {
     "name": "stdout",
     "output_type": "stream",
     "text": [
      "a    1\n",
      "b    2\n",
      "c    3\n",
      "d    4\n",
      "e    5\n",
      "dtype: int64\n"
     ]
    }
   ],
   "execution_count": 11
  },
  {
   "metadata": {
    "ExecuteTime": {
     "end_time": "2025-07-18T21:54:06.119879Z",
     "start_time": "2025-07-18T21:54:06.116708Z"
    }
   },
   "cell_type": "code",
   "source": "print(\"index {}: {}\".format(3, arr[3]))",
   "id": "ec83f382ad7a7cdb",
   "outputs": [
    {
     "name": "stdout",
     "output_type": "stream",
     "text": [
      "index 3: 4\n"
     ]
    }
   ],
   "execution_count": 7
  },
  {
   "metadata": {},
   "cell_type": "code",
   "outputs": [],
   "source": "",
   "id": "9a75ab705b5dd00",
   "execution_count": null
  },
  {
   "metadata": {
    "ExecuteTime": {
     "end_time": "2025-07-18T09:03:59.908719Z",
     "start_time": "2025-07-18T09:03:59.902852Z"
    }
   },
   "cell_type": "code",
   "source": [
    "area_category = pd.read_csv('area_category.csv')\n",
    "area_map = pd.read_csv('area_map.csv')\n",
    "area_struct = pd.read_csv('area_struct.csv')"
   ],
   "id": "9e04b9b4c7b695c2",
   "outputs": [],
   "execution_count": 9
  },
  {
   "metadata": {
    "ExecuteTime": {
     "end_time": "2025-07-18T21:55:51.288786Z",
     "start_time": "2025-07-18T21:55:51.285411Z"
    }
   },
   "cell_type": "code",
   "source": "d = {'a': 1, 'b': 2, 'c': 3}",
   "id": "421896f6c934c2b8",
   "outputs": [],
   "execution_count": 12
  },
  {
   "metadata": {
    "ExecuteTime": {
     "end_time": "2025-07-18T21:56:00.003854Z",
     "start_time": "2025-07-18T21:55:59.999902Z"
    }
   },
   "cell_type": "code",
   "source": "ds = pd.Series(d)",
   "id": "75ddea84c1443226",
   "outputs": [],
   "execution_count": 13
  },
  {
   "metadata": {
    "ExecuteTime": {
     "end_time": "2025-07-18T21:56:38.492948Z",
     "start_time": "2025-07-18T21:56:38.488104Z"
    }
   },
   "cell_type": "code",
   "source": "ds",
   "id": "ea9ef3ee3aec9e13",
   "outputs": [
    {
     "data": {
      "text/plain": [
       "a    1\n",
       "b    2\n",
       "c    3\n",
       "dtype: int64"
      ]
     },
     "execution_count": 16,
     "metadata": {},
     "output_type": "execute_result"
    }
   ],
   "execution_count": 16
  },
  {
   "metadata": {
    "ExecuteTime": {
     "end_time": "2025-07-18T21:56:42.707147Z",
     "start_time": "2025-07-18T21:56:42.704122Z"
    }
   },
   "cell_type": "code",
   "source": "print(ds)",
   "id": "5d12091c3aed4f3a",
   "outputs": [
    {
     "name": "stdout",
     "output_type": "stream",
     "text": [
      "a    1\n",
      "b    2\n",
      "c    3\n",
      "dtype: int64\n"
     ]
    }
   ],
   "execution_count": 17
  },
  {
   "metadata": {
    "ExecuteTime": {
     "end_time": "2025-07-18T21:58:57.860242Z",
     "start_time": "2025-07-18T21:58:57.857342Z"
    }
   },
   "cell_type": "code",
   "source": "l = [num for num in range(1, 6)]",
   "id": "9ac6f4622cb73323",
   "outputs": [],
   "execution_count": 27
  },
  {
   "metadata": {
    "ExecuteTime": {
     "end_time": "2025-07-18T21:58:58.177802Z",
     "start_time": "2025-07-18T21:58:58.174714Z"
    }
   },
   "cell_type": "code",
   "source": "d = \"abcde\"",
   "id": "d290ff8ec2be5353",
   "outputs": [],
   "execution_count": 28
  },
  {
   "metadata": {
    "ExecuteTime": {
     "end_time": "2025-07-18T21:59:16.530834Z",
     "start_time": "2025-07-18T21:59:16.528149Z"
    }
   },
   "cell_type": "code",
   "source": "x=dict(zip(d, l))",
   "id": "38d8afa777c062aa",
   "outputs": [],
   "execution_count": 33
  },
  {
   "metadata": {
    "ExecuteTime": {
     "end_time": "2025-07-18T21:59:16.920950Z",
     "start_time": "2025-07-18T21:59:16.918086Z"
    }
   },
   "cell_type": "code",
   "source": "print(x)",
   "id": "5a3236d2a35752d3",
   "outputs": [
    {
     "name": "stdout",
     "output_type": "stream",
     "text": [
      "{'a': 1, 'b': 2, 'c': 3, 'd': 4, 'e': 5}\n"
     ]
    }
   ],
   "execution_count": 34
  },
  {
   "metadata": {
    "ExecuteTime": {
     "end_time": "2025-07-18T22:01:16.803999Z",
     "start_time": "2025-07-18T22:01:16.800657Z"
    }
   },
   "cell_type": "code",
   "source": "s = pd.Series(range(1, 20))",
   "id": "d5e5fd48e73555a8",
   "outputs": [],
   "execution_count": 35
  },
  {
   "metadata": {
    "ExecuteTime": {
     "end_time": "2025-07-18T23:13:37.692907Z",
     "start_time": "2025-07-18T23:13:37.686750Z"
    }
   },
   "cell_type": "code",
   "source": "s[[1, 5]]",
   "id": "b3b9c5d3b3f8d41",
   "outputs": [
    {
     "data": {
      "text/plain": [
       "1    2\n",
       "5    6\n",
       "dtype: int64"
      ]
     },
     "execution_count": 38,
     "metadata": {},
     "output_type": "execute_result"
    }
   ],
   "execution_count": 38
  },
  {
   "metadata": {
    "ExecuteTime": {
     "end_time": "2025-07-18T23:13:48.332680Z",
     "start_time": "2025-07-18T23:13:48.329760Z"
    }
   },
   "cell_type": "code",
   "source": "s = pd.Series(range(1, 20))",
   "id": "4fbc706f9e5bc140",
   "outputs": [],
   "execution_count": 39
  },
  {
   "metadata": {
    "ExecuteTime": {
     "end_time": "2025-07-18T23:13:49.172258Z",
     "start_time": "2025-07-18T23:13:49.167913Z"
    }
   },
   "cell_type": "code",
   "source": "s",
   "id": "8dfedff634535d9",
   "outputs": [
    {
     "data": {
      "text/plain": [
       "0      1\n",
       "1      2\n",
       "2      3\n",
       "3      4\n",
       "4      5\n",
       "5      6\n",
       "6      7\n",
       "7      8\n",
       "8      9\n",
       "9     10\n",
       "10    11\n",
       "11    12\n",
       "12    13\n",
       "13    14\n",
       "14    15\n",
       "15    16\n",
       "16    17\n",
       "17    18\n",
       "18    19\n",
       "dtype: int64"
      ]
     },
     "execution_count": 40,
     "metadata": {},
     "output_type": "execute_result"
    }
   ],
   "execution_count": 40
  },
  {
   "metadata": {
    "ExecuteTime": {
     "end_time": "2025-07-18T23:14:02.657424Z",
     "start_time": "2025-07-18T23:14:02.652907Z"
    }
   },
   "cell_type": "code",
   "source": "s[s % 2 == 0]",
   "id": "9deb5a1c0cbd5e00",
   "outputs": [
    {
     "data": {
      "text/plain": [
       "1      2\n",
       "3      4\n",
       "5      6\n",
       "7      8\n",
       "9     10\n",
       "11    12\n",
       "13    14\n",
       "15    16\n",
       "17    18\n",
       "dtype: int64"
      ]
     },
     "execution_count": 41,
     "metadata": {},
     "output_type": "execute_result"
    }
   ],
   "execution_count": 41
  },
  {
   "metadata": {
    "ExecuteTime": {
     "end_time": "2025-07-18T23:14:19.066445Z",
     "start_time": "2025-07-18T23:14:19.061682Z"
    }
   },
   "cell_type": "code",
   "source": "s[s > 2]",
   "id": "e53ef852ec0f0dc8",
   "outputs": [
    {
     "data": {
      "text/plain": [
       "2      3\n",
       "3      4\n",
       "4      5\n",
       "5      6\n",
       "6      7\n",
       "7      8\n",
       "8      9\n",
       "9     10\n",
       "10    11\n",
       "11    12\n",
       "12    13\n",
       "13    14\n",
       "14    15\n",
       "15    16\n",
       "16    17\n",
       "17    18\n",
       "18    19\n",
       "dtype: int64"
      ]
     },
     "execution_count": 42,
     "metadata": {},
     "output_type": "execute_result"
    }
   ],
   "execution_count": 42
  },
  {
   "metadata": {
    "ExecuteTime": {
     "end_time": "2025-07-18T23:14:35.094619Z",
     "start_time": "2025-07-18T23:14:35.089866Z"
    }
   },
   "cell_type": "code",
   "source": "s[s> s.mean()]",
   "id": "93843df80bb7b58",
   "outputs": [
    {
     "data": {
      "text/plain": [
       "10    11\n",
       "11    12\n",
       "12    13\n",
       "13    14\n",
       "14    15\n",
       "15    16\n",
       "16    17\n",
       "17    18\n",
       "18    19\n",
       "dtype: int64"
      ]
     },
     "execution_count": 44,
     "metadata": {},
     "output_type": "execute_result"
    }
   ],
   "execution_count": 44
  },
  {
   "metadata": {
    "ExecuteTime": {
     "end_time": "2025-07-18T23:15:24.416292Z",
     "start_time": "2025-07-18T23:15:24.412829Z"
    }
   },
   "cell_type": "code",
   "source": "print('{}'.format(s.values))",
   "id": "f4d1b0fc9a735f28",
   "outputs": [
    {
     "name": "stdout",
     "output_type": "stream",
     "text": [
      "[ 1  2  3  4  5  6  7  8  9 10 11 12 13 14 15 16 17 18 19]\n"
     ]
    }
   ],
   "execution_count": 45
  },
  {
   "metadata": {
    "ExecuteTime": {
     "end_time": "2025-07-18T23:16:17.795934Z",
     "start_time": "2025-07-18T23:16:17.792429Z"
    }
   },
   "cell_type": "code",
   "source": "print('{}'.format(s.keys))",
   "id": "c03131c341886989",
   "outputs": [
    {
     "name": "stdout",
     "output_type": "stream",
     "text": [
      "<bound method Series.keys of 0      1\n",
      "1      2\n",
      "2      3\n",
      "3      4\n",
      "4      5\n",
      "5      6\n",
      "6      7\n",
      "7      8\n",
      "8      9\n",
      "9     10\n",
      "10    11\n",
      "11    12\n",
      "12    13\n",
      "13    14\n",
      "14    15\n",
      "15    16\n",
      "16    17\n",
      "17    18\n",
      "18    19\n",
      "dtype: int64>\n"
     ]
    }
   ],
   "execution_count": 51
  },
  {
   "metadata": {
    "ExecuteTime": {
     "end_time": "2025-07-18T23:18:51.146422Z",
     "start_time": "2025-07-18T23:18:51.143068Z"
    }
   },
   "cell_type": "code",
   "source": "s = pd.Series(range(1, 20))",
   "id": "2f9bc29c799694a4",
   "outputs": [],
   "execution_count": 52
  },
  {
   "metadata": {
    "ExecuteTime": {
     "end_time": "2025-07-18T23:18:58.623351Z",
     "start_time": "2025-07-18T23:18:58.620446Z"
    }
   },
   "cell_type": "code",
   "source": "s *= 2",
   "id": "1f2d6927b104d555",
   "outputs": [],
   "execution_count": 53
  },
  {
   "metadata": {
    "ExecuteTime": {
     "end_time": "2025-07-18T23:18:59.578965Z",
     "start_time": "2025-07-18T23:18:59.574864Z"
    }
   },
   "cell_type": "code",
   "source": "s",
   "id": "55e0260e25e247ac",
   "outputs": [
    {
     "data": {
      "text/plain": [
       "0      2\n",
       "1      4\n",
       "2      6\n",
       "3      8\n",
       "4     10\n",
       "5     12\n",
       "6     14\n",
       "7     16\n",
       "8     18\n",
       "9     20\n",
       "10    22\n",
       "11    24\n",
       "12    26\n",
       "13    28\n",
       "14    30\n",
       "15    32\n",
       "16    34\n",
       "17    36\n",
       "18    38\n",
       "dtype: int64"
      ]
     },
     "execution_count": 54,
     "metadata": {},
     "output_type": "execute_result"
    }
   ],
   "execution_count": 54
  },
  {
   "metadata": {
    "ExecuteTime": {
     "end_time": "2025-07-18T23:19:06.106923Z",
     "start_time": "2025-07-18T23:19:06.104184Z"
    }
   },
   "cell_type": "code",
   "source": "s = s + s + s",
   "id": "55b896f9fd9c2108",
   "outputs": [],
   "execution_count": 55
  },
  {
   "metadata": {
    "ExecuteTime": {
     "end_time": "2025-07-18T23:19:07.465314Z",
     "start_time": "2025-07-18T23:19:07.461459Z"
    }
   },
   "cell_type": "code",
   "source": "s",
   "id": "679ce78a6ddd0f47",
   "outputs": [
    {
     "data": {
      "text/plain": [
       "0       6\n",
       "1      12\n",
       "2      18\n",
       "3      24\n",
       "4      30\n",
       "5      36\n",
       "6      42\n",
       "7      48\n",
       "8      54\n",
       "9      60\n",
       "10     66\n",
       "11     72\n",
       "12     78\n",
       "13     84\n",
       "14     90\n",
       "15     96\n",
       "16    102\n",
       "17    108\n",
       "18    114\n",
       "dtype: int64"
      ]
     },
     "execution_count": 56,
     "metadata": {},
     "output_type": "execute_result"
    }
   ],
   "execution_count": 56
  },
  {
   "metadata": {
    "ExecuteTime": {
     "end_time": "2025-07-18T23:19:17.889591Z",
     "start_time": "2025-07-18T23:19:17.870584Z"
    }
   },
   "cell_type": "code",
   "source": "np.sin(s)",
   "id": "7c2b9e3eb2d1cc9d",
   "outputs": [
    {
     "ename": "NameError",
     "evalue": "name 'np' is not defined",
     "output_type": "error",
     "traceback": [
      "\u001B[31m---------------------------------------------------------------------------\u001B[39m",
      "\u001B[31mNameError\u001B[39m                                 Traceback (most recent call last)",
      "\u001B[36mCell\u001B[39m\u001B[36m \u001B[39m\u001B[32mIn[57]\u001B[39m\u001B[32m, line 1\u001B[39m\n\u001B[32m----> \u001B[39m\u001B[32m1\u001B[39m \u001B[43mnp\u001B[49m.sin(s)\n",
      "\u001B[31mNameError\u001B[39m: name 'np' is not defined"
     ]
    }
   ],
   "execution_count": 57
  },
  {
   "metadata": {
    "ExecuteTime": {
     "end_time": "2025-07-18T23:19:29.069238Z",
     "start_time": "2025-07-18T23:19:29.066791Z"
    }
   },
   "cell_type": "code",
   "source": "import numpy as np",
   "id": "902099b63f23a624",
   "outputs": [],
   "execution_count": 58
  },
  {
   "metadata": {
    "ExecuteTime": {
     "end_time": "2025-07-18T23:19:32.716454Z",
     "start_time": "2025-07-18T23:19:32.711668Z"
    }
   },
   "cell_type": "code",
   "source": "np.sin(s)",
   "id": "3e835d1172b886fd",
   "outputs": [
    {
     "data": {
      "text/plain": [
       "0    -0.279415\n",
       "1    -0.536573\n",
       "2    -0.750987\n",
       "3    -0.905578\n",
       "4    -0.988032\n",
       "5    -0.991779\n",
       "6    -0.916522\n",
       "7    -0.768255\n",
       "8    -0.558789\n",
       "9    -0.304811\n",
       "10   -0.026551\n",
       "11    0.253823\n",
       "12    0.513978\n",
       "13    0.733190\n",
       "14    0.893997\n",
       "15    0.983588\n",
       "16    0.994827\n",
       "17    0.926819\n",
       "18    0.784980\n",
       "dtype: float64"
      ]
     },
     "execution_count": 59,
     "metadata": {},
     "output_type": "execute_result"
    }
   ],
   "execution_count": 59
  },
  {
   "metadata": {},
   "cell_type": "code",
   "source": "",
   "id": "10faa8b79e1bbb7",
   "execution_count": null,
   "outputs": []
  },
  {
   "metadata": {
    "ExecuteTime": {
     "end_time": "2025-07-19T03:15:30.857082Z",
     "start_time": "2025-07-19T03:15:30.854131Z"
    }
   },
   "cell_type": "code",
   "source": "import numpy as np",
   "id": "17f463932a8bf359",
   "outputs": [],
   "execution_count": 7
  },
  {
   "metadata": {
    "ExecuteTime": {
     "end_time": "2025-07-19T03:15:31.349480Z",
     "start_time": "2025-07-19T03:15:31.346426Z"
    }
   },
   "cell_type": "code",
   "source": "from numpy import random",
   "id": "d3edb54a2940bb6",
   "outputs": [],
   "execution_count": 8
  },
  {
   "metadata": {
    "ExecuteTime": {
     "end_time": "2025-07-19T03:16:44.911057Z",
     "start_time": "2025-07-19T03:16:44.898859Z"
    }
   },
   "cell_type": "code",
   "source": "help(random.rand())",
   "id": "c1c55cbbfca0edaf",
   "outputs": [
    {
     "name": "stdout",
     "output_type": "stream",
     "text": [
      "Help on float object:\n",
      "\n",
      "class float(object)\n",
      " |  float(x=0, /)\n",
      " |\n",
      " |  Convert a string or number to a floating-point number, if possible.\n",
      " |\n",
      " |  Methods defined here:\n",
      " |\n",
      " |  __abs__(self, /)\n",
      " |      abs(self)\n",
      " |\n",
      " |  __add__(self, value, /)\n",
      " |      Return self+value.\n",
      " |\n",
      " |  __bool__(self, /)\n",
      " |      True if self else False\n",
      " |\n",
      " |  __ceil__(self, /)\n",
      " |      Return the ceiling as an Integral.\n",
      " |\n",
      " |  __divmod__(self, value, /)\n",
      " |      Return divmod(self, value).\n",
      " |\n",
      " |  __eq__(self, value, /)\n",
      " |      Return self==value.\n",
      " |\n",
      " |  __float__(self, /)\n",
      " |      float(self)\n",
      " |\n",
      " |  __floor__(self, /)\n",
      " |      Return the floor as an Integral.\n",
      " |\n",
      " |  __floordiv__(self, value, /)\n",
      " |      Return self//value.\n",
      " |\n",
      " |  __format__(self, format_spec, /)\n",
      " |      Formats the float according to format_spec.\n",
      " |\n",
      " |  __ge__(self, value, /)\n",
      " |      Return self>=value.\n",
      " |\n",
      " |  __getnewargs__(self, /)\n",
      " |\n",
      " |  __gt__(self, value, /)\n",
      " |      Return self>value.\n",
      " |\n",
      " |  __hash__(self, /)\n",
      " |      Return hash(self).\n",
      " |\n",
      " |  __int__(self, /)\n",
      " |      int(self)\n",
      " |\n",
      " |  __le__(self, value, /)\n",
      " |      Return self<=value.\n",
      " |\n",
      " |  __lt__(self, value, /)\n",
      " |      Return self<value.\n",
      " |\n",
      " |  __mod__(self, value, /)\n",
      " |      Return self%value.\n",
      " |\n",
      " |  __mul__(self, value, /)\n",
      " |      Return self*value.\n",
      " |\n",
      " |  __ne__(self, value, /)\n",
      " |      Return self!=value.\n",
      " |\n",
      " |  __neg__(self, /)\n",
      " |      -self\n",
      " |\n",
      " |  __pos__(self, /)\n",
      " |      +self\n",
      " |\n",
      " |  __pow__(self, value, mod=None, /)\n",
      " |      Return pow(self, value, mod).\n",
      " |\n",
      " |  __radd__(self, value, /)\n",
      " |      Return value+self.\n",
      " |\n",
      " |  __rdivmod__(self, value, /)\n",
      " |      Return divmod(value, self).\n",
      " |\n",
      " |  __repr__(self, /)\n",
      " |      Return repr(self).\n",
      " |\n",
      " |  __rfloordiv__(self, value, /)\n",
      " |      Return value//self.\n",
      " |\n",
      " |  __rmod__(self, value, /)\n",
      " |      Return value%self.\n",
      " |\n",
      " |  __rmul__(self, value, /)\n",
      " |      Return value*self.\n",
      " |\n",
      " |  __round__(self, ndigits=None, /)\n",
      " |      Return the Integral closest to x, rounding half toward even.\n",
      " |\n",
      " |      When an argument is passed, work like built-in round(x, ndigits).\n",
      " |\n",
      " |  __rpow__(self, value, mod=None, /)\n",
      " |      Return pow(value, self, mod).\n",
      " |\n",
      " |  __rsub__(self, value, /)\n",
      " |      Return value-self.\n",
      " |\n",
      " |  __rtruediv__(self, value, /)\n",
      " |      Return value/self.\n",
      " |\n",
      " |  __sub__(self, value, /)\n",
      " |      Return self-value.\n",
      " |\n",
      " |  __truediv__(self, value, /)\n",
      " |      Return self/value.\n",
      " |\n",
      " |  __trunc__(self, /)\n",
      " |      Return the Integral closest to x between 0 and x.\n",
      " |\n",
      " |  as_integer_ratio(self, /)\n",
      " |      Return a pair of integers, whose ratio is exactly equal to the original float.\n",
      " |\n",
      " |      The ratio is in lowest terms and has a positive denominator.  Raise\n",
      " |      OverflowError on infinities and a ValueError on NaNs.\n",
      " |\n",
      " |      >>> (10.0).as_integer_ratio()\n",
      " |      (10, 1)\n",
      " |      >>> (0.0).as_integer_ratio()\n",
      " |      (0, 1)\n",
      " |      >>> (-.25).as_integer_ratio()\n",
      " |      (-1, 4)\n",
      " |\n",
      " |  conjugate(self, /)\n",
      " |      Return self, the complex conjugate of any float.\n",
      " |\n",
      " |  hex(self, /)\n",
      " |      Return a hexadecimal representation of a floating-point number.\n",
      " |\n",
      " |      >>> (-0.1).hex()\n",
      " |      '-0x1.999999999999ap-4'\n",
      " |      >>> 3.14159.hex()\n",
      " |      '0x1.921f9f01b866ep+1'\n",
      " |\n",
      " |  is_integer(self, /)\n",
      " |      Return True if the float is an integer.\n",
      " |\n",
      " |  ----------------------------------------------------------------------\n",
      " |  Class methods defined here:\n",
      " |\n",
      " |  __getformat__(typestr, /)\n",
      " |      You probably don't want to use this function.\n",
      " |\n",
      " |        typestr\n",
      " |          Must be 'double' or 'float'.\n",
      " |\n",
      " |      It exists mainly to be used in Python's test suite.\n",
      " |\n",
      " |      This function returns whichever of 'unknown', 'IEEE, big-endian' or 'IEEE,\n",
      " |      little-endian' best describes the format of floating-point numbers used by the\n",
      " |      C type named by typestr.\n",
      " |\n",
      " |  fromhex(string, /)\n",
      " |      Create a floating-point number from a hexadecimal string.\n",
      " |\n",
      " |      >>> float.fromhex('0x1.ffffp10')\n",
      " |      2047.984375\n",
      " |      >>> float.fromhex('-0x1p-1074')\n",
      " |      -5e-324\n",
      " |\n",
      " |  ----------------------------------------------------------------------\n",
      " |  Static methods defined here:\n",
      " |\n",
      " |  __new__(*args, **kwargs)\n",
      " |      Create and return a new object.  See help(type) for accurate signature.\n",
      " |\n",
      " |  ----------------------------------------------------------------------\n",
      " |  Data descriptors defined here:\n",
      " |\n",
      " |  imag\n",
      " |      the imaginary part of a complex number\n",
      " |\n",
      " |  real\n",
      " |      the real part of a complex number\n",
      "\n"
     ]
    }
   ],
   "execution_count": 21
  },
  {
   "metadata": {
    "ExecuteTime": {
     "end_time": "2025-07-19T03:27:46.712419Z",
     "start_time": "2025-07-19T03:27:46.708136Z"
    }
   },
   "cell_type": "code",
   "source": "type(random.choice(['a', 'b']))",
   "id": "960b77e3e6b62493",
   "outputs": [
    {
     "data": {
      "text/plain": [
       "numpy.str_"
      ]
     },
     "execution_count": 35,
     "metadata": {},
     "output_type": "execute_result"
    }
   ],
   "execution_count": 35
  },
  {
   "metadata": {
    "ExecuteTime": {
     "end_time": "2025-07-19T03:30:25.594118Z",
     "start_time": "2025-07-19T03:30:25.591015Z"
    }
   },
   "cell_type": "code",
   "source": [
    "arr1 = np.array(random.randint(10, size=10))\n",
    "arr2 = np.array(random.randint(10, size=10))"
   ],
   "id": "cae02ef2c07fd4bb",
   "outputs": [],
   "execution_count": 52
  },
  {
   "metadata": {
    "ExecuteTime": {
     "end_time": "2025-07-19T03:30:26.742242Z",
     "start_time": "2025-07-19T03:30:26.738366Z"
    }
   },
   "cell_type": "code",
   "source": "arr1",
   "id": "7c5deaa29171f56d",
   "outputs": [
    {
     "data": {
      "text/plain": [
       "array([9, 2, 7, 4, 4, 5, 2, 9, 2, 8], dtype=int32)"
      ]
     },
     "execution_count": 53,
     "metadata": {},
     "output_type": "execute_result"
    }
   ],
   "execution_count": 53
  },
  {
   "metadata": {
    "ExecuteTime": {
     "end_time": "2025-07-19T03:30:27.188701Z",
     "start_time": "2025-07-19T03:30:27.184869Z"
    }
   },
   "cell_type": "code",
   "source": "arr2",
   "id": "651c713a07b4f58e",
   "outputs": [
    {
     "data": {
      "text/plain": [
       "array([6, 3, 8, 0, 5, 4, 2, 2, 7, 6], dtype=int32)"
      ]
     },
     "execution_count": 54,
     "metadata": {},
     "output_type": "execute_result"
    }
   ],
   "execution_count": 54
  },
  {
   "metadata": {
    "ExecuteTime": {
     "end_time": "2025-07-19T03:30:37.816381Z",
     "start_time": "2025-07-19T03:30:37.812567Z"
    }
   },
   "cell_type": "code",
   "source": "print(arr1 + arr2)",
   "id": "40143d527632f421",
   "outputs": [
    {
     "name": "stdout",
     "output_type": "stream",
     "text": [
      "[15  5 15  4  9  9  4 11  9 14]\n"
     ]
    }
   ],
   "execution_count": 56
  },
  {
   "metadata": {
    "ExecuteTime": {
     "end_time": "2025-07-19T06:53:18.096982Z",
     "start_time": "2025-07-19T06:53:18.069739Z"
    }
   },
   "cell_type": "code",
   "source": "",
   "id": "56390b127b5d5734",
   "outputs": [
    {
     "name": "stdout",
     "output_type": "stream",
     "text": [
      "--- 1. 실제 파일 데이터 불러오기 및 내용 확인 ---\n",
      "\n",
      "[area_map.csv 내용]\n",
      "      x   y  ConstructionSite\n",
      "0     1   1                 0\n",
      "1     1   2                 0\n",
      "2     1   3                 0\n",
      "3     1   4                 0\n",
      "4     1   5                 0\n",
      "..   ..  ..               ...\n",
      "220  15  11                 0\n",
      "221  15  12                 0\n",
      "222  15  13                 0\n",
      "223  15  14                 0\n",
      "224  15  15                 0\n",
      "\n",
      "[225 rows x 3 columns]\n",
      "\n",
      "[area_struct.csv 내용]\n",
      "      x   y  category  area\n",
      "0     1   1         0     0\n",
      "1     1   2         0     0\n",
      "2     1   3         0     0\n",
      "3     1   4         2     0\n",
      "4     1   5         0     0\n",
      "..   ..  ..       ...   ...\n",
      "220  15  11         0     3\n",
      "221  15  12         0     3\n",
      "222  15  13         0     3\n",
      "223  15  14         0     3\n",
      "224  15  15         0     3\n",
      "\n",
      "[225 rows x 4 columns]\n",
      "\n",
      "[area_category.csv 내용]\n",
      "   category            struct\n",
      "0         1         Apartment\n",
      "1         2          Building\n",
      "2         3            MyHome\n",
      "3         4   BandalgomCoffee\n",
      "\n",
      "==================================================\n",
      "\n",
      "데이터 처리 중 오류가 발생했습니다: 'struc_id'\n"
     ]
    }
   ],
   "execution_count": 57
  },
  {
   "metadata": {
    "ExecuteTime": {
     "end_time": "2025-07-19T06:53:53.478907Z",
     "start_time": "2025-07-19T06:53:53.471792Z"
    }
   },
   "cell_type": "code",
   "source": [
    "area_map_df = pd.read_csv('area_map.csv')\n",
    "area_struct_df = pd.read_csv('area_struct.csv')\n",
    "area_category_df = pd.read_csv('area_category.csv')"
   ],
   "id": "692cd23216782039",
   "outputs": [],
   "execution_count": 59
  },
  {
   "metadata": {
    "ExecuteTime": {
     "end_time": "2025-07-19T06:53:57.859907Z",
     "start_time": "2025-07-19T06:53:57.853364Z"
    }
   },
   "cell_type": "code",
   "source": "area_category_df",
   "id": "eb0d3eb398d22584",
   "outputs": [
    {
     "data": {
      "text/plain": [
       "   category            struct\n",
       "0         1         Apartment\n",
       "1         2          Building\n",
       "2         3            MyHome\n",
       "3         4   BandalgomCoffee"
      ],
      "text/html": [
       "<div>\n",
       "<style scoped>\n",
       "    .dataframe tbody tr th:only-of-type {\n",
       "        vertical-align: middle;\n",
       "    }\n",
       "\n",
       "    .dataframe tbody tr th {\n",
       "        vertical-align: top;\n",
       "    }\n",
       "\n",
       "    .dataframe thead th {\n",
       "        text-align: right;\n",
       "    }\n",
       "</style>\n",
       "<table border=\"1\" class=\"dataframe\">\n",
       "  <thead>\n",
       "    <tr style=\"text-align: right;\">\n",
       "      <th></th>\n",
       "      <th>category</th>\n",
       "      <th>struct</th>\n",
       "    </tr>\n",
       "  </thead>\n",
       "  <tbody>\n",
       "    <tr>\n",
       "      <th>0</th>\n",
       "      <td>1</td>\n",
       "      <td>Apartment</td>\n",
       "    </tr>\n",
       "    <tr>\n",
       "      <th>1</th>\n",
       "      <td>2</td>\n",
       "      <td>Building</td>\n",
       "    </tr>\n",
       "    <tr>\n",
       "      <th>2</th>\n",
       "      <td>3</td>\n",
       "      <td>MyHome</td>\n",
       "    </tr>\n",
       "    <tr>\n",
       "      <th>3</th>\n",
       "      <td>4</td>\n",
       "      <td>BandalgomCoffee</td>\n",
       "    </tr>\n",
       "  </tbody>\n",
       "</table>\n",
       "</div>"
      ]
     },
     "execution_count": 60,
     "metadata": {},
     "output_type": "execute_result"
    }
   ],
   "execution_count": 60
  },
  {
   "metadata": {
    "ExecuteTime": {
     "end_time": "2025-07-19T06:54:01.346184Z",
     "start_time": "2025-07-19T06:54:01.339452Z"
    }
   },
   "cell_type": "code",
   "source": "area_map_df",
   "id": "d785fae3f98608b7",
   "outputs": [
    {
     "data": {
      "text/plain": [
       "      x   y  ConstructionSite\n",
       "0     1   1                 0\n",
       "1     1   2                 0\n",
       "2     1   3                 0\n",
       "3     1   4                 0\n",
       "4     1   5                 0\n",
       "..   ..  ..               ...\n",
       "220  15  11                 0\n",
       "221  15  12                 0\n",
       "222  15  13                 0\n",
       "223  15  14                 0\n",
       "224  15  15                 0\n",
       "\n",
       "[225 rows x 3 columns]"
      ],
      "text/html": [
       "<div>\n",
       "<style scoped>\n",
       "    .dataframe tbody tr th:only-of-type {\n",
       "        vertical-align: middle;\n",
       "    }\n",
       "\n",
       "    .dataframe tbody tr th {\n",
       "        vertical-align: top;\n",
       "    }\n",
       "\n",
       "    .dataframe thead th {\n",
       "        text-align: right;\n",
       "    }\n",
       "</style>\n",
       "<table border=\"1\" class=\"dataframe\">\n",
       "  <thead>\n",
       "    <tr style=\"text-align: right;\">\n",
       "      <th></th>\n",
       "      <th>x</th>\n",
       "      <th>y</th>\n",
       "      <th>ConstructionSite</th>\n",
       "    </tr>\n",
       "  </thead>\n",
       "  <tbody>\n",
       "    <tr>\n",
       "      <th>0</th>\n",
       "      <td>1</td>\n",
       "      <td>1</td>\n",
       "      <td>0</td>\n",
       "    </tr>\n",
       "    <tr>\n",
       "      <th>1</th>\n",
       "      <td>1</td>\n",
       "      <td>2</td>\n",
       "      <td>0</td>\n",
       "    </tr>\n",
       "    <tr>\n",
       "      <th>2</th>\n",
       "      <td>1</td>\n",
       "      <td>3</td>\n",
       "      <td>0</td>\n",
       "    </tr>\n",
       "    <tr>\n",
       "      <th>3</th>\n",
       "      <td>1</td>\n",
       "      <td>4</td>\n",
       "      <td>0</td>\n",
       "    </tr>\n",
       "    <tr>\n",
       "      <th>4</th>\n",
       "      <td>1</td>\n",
       "      <td>5</td>\n",
       "      <td>0</td>\n",
       "    </tr>\n",
       "    <tr>\n",
       "      <th>...</th>\n",
       "      <td>...</td>\n",
       "      <td>...</td>\n",
       "      <td>...</td>\n",
       "    </tr>\n",
       "    <tr>\n",
       "      <th>220</th>\n",
       "      <td>15</td>\n",
       "      <td>11</td>\n",
       "      <td>0</td>\n",
       "    </tr>\n",
       "    <tr>\n",
       "      <th>221</th>\n",
       "      <td>15</td>\n",
       "      <td>12</td>\n",
       "      <td>0</td>\n",
       "    </tr>\n",
       "    <tr>\n",
       "      <th>222</th>\n",
       "      <td>15</td>\n",
       "      <td>13</td>\n",
       "      <td>0</td>\n",
       "    </tr>\n",
       "    <tr>\n",
       "      <th>223</th>\n",
       "      <td>15</td>\n",
       "      <td>14</td>\n",
       "      <td>0</td>\n",
       "    </tr>\n",
       "    <tr>\n",
       "      <th>224</th>\n",
       "      <td>15</td>\n",
       "      <td>15</td>\n",
       "      <td>0</td>\n",
       "    </tr>\n",
       "  </tbody>\n",
       "</table>\n",
       "<p>225 rows × 3 columns</p>\n",
       "</div>"
      ]
     },
     "execution_count": 61,
     "metadata": {},
     "output_type": "execute_result"
    }
   ],
   "execution_count": 61
  },
  {
   "metadata": {
    "ExecuteTime": {
     "end_time": "2025-07-19T06:54:12.365457Z",
     "start_time": "2025-07-19T06:54:12.359206Z"
    }
   },
   "cell_type": "code",
   "source": "area_struct_df",
   "id": "77204869e3153ba2",
   "outputs": [
    {
     "data": {
      "text/plain": [
       "      x   y  category  area\n",
       "0     1   1         0     0\n",
       "1     1   2         0     0\n",
       "2     1   3         0     0\n",
       "3     1   4         2     0\n",
       "4     1   5         0     0\n",
       "..   ..  ..       ...   ...\n",
       "220  15  11         0     3\n",
       "221  15  12         0     3\n",
       "222  15  13         0     3\n",
       "223  15  14         0     3\n",
       "224  15  15         0     3\n",
       "\n",
       "[225 rows x 4 columns]"
      ],
      "text/html": [
       "<div>\n",
       "<style scoped>\n",
       "    .dataframe tbody tr th:only-of-type {\n",
       "        vertical-align: middle;\n",
       "    }\n",
       "\n",
       "    .dataframe tbody tr th {\n",
       "        vertical-align: top;\n",
       "    }\n",
       "\n",
       "    .dataframe thead th {\n",
       "        text-align: right;\n",
       "    }\n",
       "</style>\n",
       "<table border=\"1\" class=\"dataframe\">\n",
       "  <thead>\n",
       "    <tr style=\"text-align: right;\">\n",
       "      <th></th>\n",
       "      <th>x</th>\n",
       "      <th>y</th>\n",
       "      <th>category</th>\n",
       "      <th>area</th>\n",
       "    </tr>\n",
       "  </thead>\n",
       "  <tbody>\n",
       "    <tr>\n",
       "      <th>0</th>\n",
       "      <td>1</td>\n",
       "      <td>1</td>\n",
       "      <td>0</td>\n",
       "      <td>0</td>\n",
       "    </tr>\n",
       "    <tr>\n",
       "      <th>1</th>\n",
       "      <td>1</td>\n",
       "      <td>2</td>\n",
       "      <td>0</td>\n",
       "      <td>0</td>\n",
       "    </tr>\n",
       "    <tr>\n",
       "      <th>2</th>\n",
       "      <td>1</td>\n",
       "      <td>3</td>\n",
       "      <td>0</td>\n",
       "      <td>0</td>\n",
       "    </tr>\n",
       "    <tr>\n",
       "      <th>3</th>\n",
       "      <td>1</td>\n",
       "      <td>4</td>\n",
       "      <td>2</td>\n",
       "      <td>0</td>\n",
       "    </tr>\n",
       "    <tr>\n",
       "      <th>4</th>\n",
       "      <td>1</td>\n",
       "      <td>5</td>\n",
       "      <td>0</td>\n",
       "      <td>0</td>\n",
       "    </tr>\n",
       "    <tr>\n",
       "      <th>...</th>\n",
       "      <td>...</td>\n",
       "      <td>...</td>\n",
       "      <td>...</td>\n",
       "      <td>...</td>\n",
       "    </tr>\n",
       "    <tr>\n",
       "      <th>220</th>\n",
       "      <td>15</td>\n",
       "      <td>11</td>\n",
       "      <td>0</td>\n",
       "      <td>3</td>\n",
       "    </tr>\n",
       "    <tr>\n",
       "      <th>221</th>\n",
       "      <td>15</td>\n",
       "      <td>12</td>\n",
       "      <td>0</td>\n",
       "      <td>3</td>\n",
       "    </tr>\n",
       "    <tr>\n",
       "      <th>222</th>\n",
       "      <td>15</td>\n",
       "      <td>13</td>\n",
       "      <td>0</td>\n",
       "      <td>3</td>\n",
       "    </tr>\n",
       "    <tr>\n",
       "      <th>223</th>\n",
       "      <td>15</td>\n",
       "      <td>14</td>\n",
       "      <td>0</td>\n",
       "      <td>3</td>\n",
       "    </tr>\n",
       "    <tr>\n",
       "      <th>224</th>\n",
       "      <td>15</td>\n",
       "      <td>15</td>\n",
       "      <td>0</td>\n",
       "      <td>3</td>\n",
       "    </tr>\n",
       "  </tbody>\n",
       "</table>\n",
       "<p>225 rows × 4 columns</p>\n",
       "</div>"
      ]
     },
     "execution_count": 62,
     "metadata": {},
     "output_type": "execute_result"
    }
   ],
   "execution_count": 62
  },
  {
   "metadata": {
    "ExecuteTime": {
     "end_time": "2025-07-19T06:59:44.248506Z",
     "start_time": "2025-07-19T06:59:44.241774Z"
    }
   },
   "cell_type": "code",
   "source": [
    "import pandas as pd\n",
    "\n",
    "# 1. CSV 파일들을 데이터프레임으로 불러옵니다.\n",
    "area_category_df = pd.read_csv('area_category.csv')\n",
    "area_map_df = pd.read_csv('area_map.csv')\n",
    "area_struct_df = pd.read_csv('area_struct.csv')"
   ],
   "id": "7d2852a36a86fa4c",
   "outputs": [],
   "execution_count": 63
  },
  {
   "metadata": {
    "ExecuteTime": {
     "end_time": "2025-07-19T06:59:56.033813Z",
     "start_time": "2025-07-19T06:59:56.028048Z"
    }
   },
   "cell_type": "code",
   "source": [
    "# 2. 'area_category.csv' 파일의 ' struct' 열 이름에서 앞쪽 공백을 제거합니다.\n",
    "area_category_df.rename(columns={' struct': 'struct'}, inplace=True)"
   ],
   "id": "5969b39a813bbfe6",
   "outputs": [],
   "execution_count": 64
  },
  {
   "metadata": {},
   "cell_type": "code",
   "source": [
    "# 3. 'area_map_df'와 'area_struct_df'를 'x'와 'y'를 기준으로 병합합니다.\n",
    "merged_map_struct_df = pd.merge(area_map_df, area_struct_df, on=['x', 'y'])"
   ],
   "id": "89bf4b12f460385c",
   "execution_count": null,
   "outputs": []
  },
  {
   "metadata": {
    "ExecuteTime": {
     "end_time": "2025-07-19T07:06:15.891416Z",
     "start_time": "2025-07-19T07:06:15.885658Z"
    }
   },
   "cell_type": "code",
   "source": "final_df = pd.merge(merged_map_struct_df, area_category_df, on='category', how='left')",
   "id": "c3b8c96970096ddc",
   "outputs": [],
   "execution_count": 71
  },
  {
   "metadata": {
    "ExecuteTime": {
     "end_time": "2025-07-19T07:06:20.247155Z",
     "start_time": "2025-07-19T07:06:20.241577Z"
    }
   },
   "cell_type": "code",
   "source": "print(final_df)",
   "id": "2f2647aecd003d9f",
   "outputs": [
    {
     "name": "stdout",
     "output_type": "stream",
     "text": [
      "      x   y  ConstructionSite  category  area     struct\n",
      "0     1   1                 0         0     0        NaN\n",
      "1     1   2                 0         0     0        NaN\n",
      "2     1   3                 0         0     0        NaN\n",
      "3     1   4                 0         2     0   Building\n",
      "4     1   5                 0         0     0        NaN\n",
      "..   ..  ..               ...       ...   ...        ...\n",
      "220  15  11                 0         0     3        NaN\n",
      "221  15  12                 0         0     3        NaN\n",
      "222  15  13                 0         0     3        NaN\n",
      "223  15  14                 0         0     3        NaN\n",
      "224  15  15                 0         0     3        NaN\n",
      "\n",
      "[225 rows x 6 columns]\n"
     ]
    }
   ],
   "execution_count": 72
  },
  {
   "metadata": {
    "ExecuteTime": {
     "end_time": "2025-07-19T07:07:01.807306Z",
     "start_time": "2025-07-19T07:07:01.803552Z"
    }
   },
   "cell_type": "code",
   "source": "final_df_sorted = final_df.sort_values(by='area')",
   "id": "5d2f42f7d0acab0a",
   "outputs": [],
   "execution_count": 73
  },
  {
   "metadata": {},
   "cell_type": "code",
   "source": "final_df_sorted",
   "id": "a767994d62f0749",
   "execution_count": null,
   "outputs": []
  },
  {
   "metadata": {
    "ExecuteTime": {
     "end_time": "2025-07-19T07:10:32.976276Z",
     "start_time": "2025-07-19T07:10:32.969875Z"
    }
   },
   "cell_type": "code",
   "source": [
    "# 2. (핵심) 'area' 열의 값이 1인 데이터만 필터링합니다.\n",
    "area_1_data = final_df_sorted[final_df_sorted['area'] == 1]\n",
    "\n",
    "# 3. 필터링된 결과를 출력합니다.\n",
    "print(\"area가 1인 데이터:\")\n",
    "print(area_1_data)"
   ],
   "id": "2d038744370ce496",
   "outputs": [
    {
     "name": "stdout",
     "output_type": "stream",
     "text": [
      "area가 1인 데이터:\n",
      "     x   y  ConstructionSite  category  area            struct\n",
      "28   2  14                 0         1     1         Apartment\n",
      "26   2  12                 0         4     1   BandalgomCoffee\n",
      "29   2  15                 0         0     1               NaN\n",
      "25   2  11                 0         0     1               NaN\n",
      "24   2  10                 0         0     1               NaN\n",
      "22   2   8                 1         0     1               NaN\n",
      "27   2  13                 0         0     1               NaN\n",
      "7    1   8                 0         0     1               NaN\n",
      "8    1   9                 0         0     1               NaN\n",
      "10   1  11                 0         0     1               NaN\n",
      "9    1  10                 0         0     1               NaN\n",
      "11   1  12                 0         0     1               NaN\n",
      "12   1  13                 0         1     1         Apartment\n",
      "13   1  14                 0         2     1          Building\n",
      "23   2   9                 1         0     1               NaN\n",
      "56   4  12                 0         0     1               NaN\n",
      "57   4  13                 0         0     1               NaN\n",
      "58   4  14                 0         0     1               NaN\n",
      "59   4  15                 0         0     1               NaN\n",
      "52   4   8                 1         0     1               NaN\n",
      "53   4   9                 1         0     1               NaN\n",
      "54   4  10                 0         0     1               NaN\n",
      "55   4  11                 0         0     1               NaN\n",
      "39   3  10                 0         0     1               NaN\n",
      "38   3   9                 1         0     1               NaN\n",
      "37   3   8                 1         0     1               NaN\n",
      "40   3  11                 0         0     1               NaN\n",
      "43   3  14                 0         2     1          Building\n",
      "42   3  13                 0         0     1               NaN\n",
      "41   3  12                 0         4     1   BandalgomCoffee\n",
      "44   3  15                 0         0     1               NaN\n",
      "14   1  15                 0         0     1               NaN\n",
      "73   5  14                 0         0     1               NaN\n",
      "74   5  15                 0         0     1               NaN\n",
      "72   5  13                 0         0     1               NaN\n",
      "68   5   9                 1         0     1               NaN\n",
      "69   5  10                 0         0     1               NaN\n",
      "70   5  11                 0         0     1               NaN\n",
      "67   5   8                 1         0     1               NaN\n",
      "87   6  13                 0         0     1               NaN\n",
      "86   6  12                 0         0     1               NaN\n",
      "85   6  11                 0         0     1               NaN\n",
      "84   6  10                 0         0     1               NaN\n",
      "83   6   9                 1         0     1               NaN\n",
      "82   6   8                 1         0     1               NaN\n",
      "88   6  14                 0         0     1               NaN\n",
      "71   5  12                 0         0     1               NaN\n",
      "89   6  15                 0         0     1               NaN\n",
      "97   7   8                 1         0     1               NaN\n",
      "98   7   9                 1         0     1               NaN\n",
      "99   7  10                 1         0     1               NaN\n",
      "100  7  11                 1         0     1               NaN\n",
      "101  7  12                 1         0     1               NaN\n",
      "102  7  13                 0         0     1               NaN\n",
      "103  7  14                 0         0     1               NaN\n",
      "104  7  15                 0         0     1               NaN\n"
     ]
    }
   ],
   "execution_count": 75
  },
  {
   "metadata": {},
   "cell_type": "code",
   "source": "",
   "id": "57fe893dcfcca330",
   "execution_count": null,
   "outputs": []
  },
  {
   "metadata": {},
   "cell_type": "code",
   "outputs": [
    {
     "data": {
      "text/plain": [
       "      x   y  ConstructionSite  category  area     struct\n",
       "0     1   1                 0         0     0        NaN\n",
       "1     1   2                 0         0     0        NaN\n",
       "2     1   3                 0         0     0        NaN\n",
       "3     1   4                 0         2     0   Building\n",
       "4     1   5                 0         0     0        NaN\n",
       "..   ..  ..               ...       ...   ...        ...\n",
       "220  15  11                 0         0     3        NaN\n",
       "221  15  12                 0         0     3        NaN\n",
       "222  15  13                 0         0     3        NaN\n",
       "223  15  14                 0         0     3        NaN\n",
       "224  15  15                 0         0     3        NaN\n",
       "\n",
       "[225 rows x 6 columns]"
      ],
      "text/html": [
       "<div>\n",
       "<style scoped>\n",
       "    .dataframe tbody tr th:only-of-type {\n",
       "        vertical-align: middle;\n",
       "    }\n",
       "\n",
       "    .dataframe tbody tr th {\n",
       "        vertical-align: top;\n",
       "    }\n",
       "\n",
       "    .dataframe thead th {\n",
       "        text-align: right;\n",
       "    }\n",
       "</style>\n",
       "<table border=\"1\" class=\"dataframe\">\n",
       "  <thead>\n",
       "    <tr style=\"text-align: right;\">\n",
       "      <th></th>\n",
       "      <th>x</th>\n",
       "      <th>y</th>\n",
       "      <th>ConstructionSite</th>\n",
       "      <th>category</th>\n",
       "      <th>area</th>\n",
       "      <th>struct</th>\n",
       "    </tr>\n",
       "  </thead>\n",
       "  <tbody>\n",
       "    <tr>\n",
       "      <th>0</th>\n",
       "      <td>1</td>\n",
       "      <td>1</td>\n",
       "      <td>0</td>\n",
       "      <td>0</td>\n",
       "      <td>0</td>\n",
       "      <td>NaN</td>\n",
       "    </tr>\n",
       "    <tr>\n",
       "      <th>1</th>\n",
       "      <td>1</td>\n",
       "      <td>2</td>\n",
       "      <td>0</td>\n",
       "      <td>0</td>\n",
       "      <td>0</td>\n",
       "      <td>NaN</td>\n",
       "    </tr>\n",
       "    <tr>\n",
       "      <th>2</th>\n",
       "      <td>1</td>\n",
       "      <td>3</td>\n",
       "      <td>0</td>\n",
       "      <td>0</td>\n",
       "      <td>0</td>\n",
       "      <td>NaN</td>\n",
       "    </tr>\n",
       "    <tr>\n",
       "      <th>3</th>\n",
       "      <td>1</td>\n",
       "      <td>4</td>\n",
       "      <td>0</td>\n",
       "      <td>2</td>\n",
       "      <td>0</td>\n",
       "      <td>Building</td>\n",
       "    </tr>\n",
       "    <tr>\n",
       "      <th>4</th>\n",
       "      <td>1</td>\n",
       "      <td>5</td>\n",
       "      <td>0</td>\n",
       "      <td>0</td>\n",
       "      <td>0</td>\n",
       "      <td>NaN</td>\n",
       "    </tr>\n",
       "    <tr>\n",
       "      <th>...</th>\n",
       "      <td>...</td>\n",
       "      <td>...</td>\n",
       "      <td>...</td>\n",
       "      <td>...</td>\n",
       "      <td>...</td>\n",
       "      <td>...</td>\n",
       "    </tr>\n",
       "    <tr>\n",
       "      <th>220</th>\n",
       "      <td>15</td>\n",
       "      <td>11</td>\n",
       "      <td>0</td>\n",
       "      <td>0</td>\n",
       "      <td>3</td>\n",
       "      <td>NaN</td>\n",
       "    </tr>\n",
       "    <tr>\n",
       "      <th>221</th>\n",
       "      <td>15</td>\n",
       "      <td>12</td>\n",
       "      <td>0</td>\n",
       "      <td>0</td>\n",
       "      <td>3</td>\n",
       "      <td>NaN</td>\n",
       "    </tr>\n",
       "    <tr>\n",
       "      <th>222</th>\n",
       "      <td>15</td>\n",
       "      <td>13</td>\n",
       "      <td>0</td>\n",
       "      <td>0</td>\n",
       "      <td>3</td>\n",
       "      <td>NaN</td>\n",
       "    </tr>\n",
       "    <tr>\n",
       "      <th>223</th>\n",
       "      <td>15</td>\n",
       "      <td>14</td>\n",
       "      <td>0</td>\n",
       "      <td>0</td>\n",
       "      <td>3</td>\n",
       "      <td>NaN</td>\n",
       "    </tr>\n",
       "    <tr>\n",
       "      <th>224</th>\n",
       "      <td>15</td>\n",
       "      <td>15</td>\n",
       "      <td>0</td>\n",
       "      <td>0</td>\n",
       "      <td>3</td>\n",
       "      <td>NaN</td>\n",
       "    </tr>\n",
       "  </tbody>\n",
       "</table>\n",
       "<p>225 rows × 6 columns</p>\n",
       "</div>"
      ]
     },
     "execution_count": 74,
     "metadata": {},
     "output_type": "execute_result"
    }
   ],
   "source": "",
   "id": "7ede30b05c5e9888",
   "execution_count": null
  },
  {
   "metadata": {},
   "cell_type": "code",
   "outputs": [
    {
     "name": "stdout",
     "output_type": "stream",
     "text": [
      "      x   y  ConstructionSite\n",
      "0     1   1                 0\n",
      "1     1   2                 0\n",
      "2     1   3                 0\n",
      "3     1   4                 0\n",
      "4     1   5                 0\n",
      "..   ..  ..               ...\n",
      "220  15  11                 0\n",
      "221  15  12                 0\n",
      "222  15  13                 0\n",
      "223  15  14                 0\n",
      "224  15  15                 0\n",
      "\n",
      "[225 rows x 3 columns]\n"
     ]
    }
   ],
   "execution_count": 67,
   "source": "print(area_map_df)",
   "id": "cb4531c0c63ac29e"
  },
  {
   "metadata": {
    "ExecuteTime": {
     "end_time": "2025-07-19T07:02:48.669152Z",
     "start_time": "2025-07-19T07:02:48.664930Z"
    }
   },
   "cell_type": "code",
   "source": "print(area_struct_df)",
   "id": "65d5c55776b93fb",
   "outputs": [
    {
     "name": "stdout",
     "output_type": "stream",
     "text": [
      "      x   y  category  area\n",
      "0     1   1         0     0\n",
      "1     1   2         0     0\n",
      "2     1   3         0     0\n",
      "3     1   4         2     0\n",
      "4     1   5         0     0\n",
      "..   ..  ..       ...   ...\n",
      "220  15  11         0     3\n",
      "221  15  12         0     3\n",
      "222  15  13         0     3\n",
      "223  15  14         0     3\n",
      "224  15  15         0     3\n",
      "\n",
      "[225 rows x 4 columns]\n"
     ]
    }
   ],
   "execution_count": 68
  },
  {
   "metadata": {},
   "cell_type": "code",
   "execution_count": null,
   "source": "print(merged_map_struct_df)",
   "id": "b610a38c6817b8e2",
   "outputs": []
  },
  {
   "metadata": {
    "ExecuteTime": {
     "end_time": "2025-07-19T07:03:34.528801Z",
     "start_time": "2025-07-19T07:03:34.524942Z"
    }
   },
   "cell_type": "code",
   "source": "print(area_category_df)\n",
   "id": "cc5b5337f231d8d8",
   "outputs": [
    {
     "name": "stdout",
     "output_type": "stream",
     "text": [
      "   category            struct\n",
      "0         1         Apartment\n",
      "1         2          Building\n",
      "2         3            MyHome\n",
      "3         4   BandalgomCoffee\n"
     ]
    }
   ],
   "execution_count": 69
  },
  {
   "metadata": {},
   "cell_type": "code",
   "execution_count": null,
   "source": [
    "\n",
    "# 4. 위에서 병합된 데이터프레임과 'area_category_df'를 'category'를 기준으로 병합합니다.\n",
    "#    (left join을 사용하여 'merged_map_struct_df'의 모든 데이터를 유지합니다.)\n",
    "final_df = pd.merge(merged_map_struct_df, area_category_df, on='category', how='left')"
   ],
   "id": "1b5edf5097fe9b04",
   "outputs": []
  },
  {
   "metadata": {},
   "cell_type": "code",
   "execution_count": null,
   "source": [
    "\n",
    "# 5. 최종 데이터프레임을 'area' 열을 기준으로 오름차순 정렬합니다.\n",
    "final_df_sorted = final_df.sort_values(by='area')"
   ],
   "id": "c22c7fcf5f53e906",
   "outputs": []
  },
  {
   "metadata": {},
   "cell_type": "code",
   "execution_count": null,
   "source": [
    "\n",
    "# 6. 결과를 새로운 CSV 파일로 저장합니다.\n",
    "final_df_sorted.to_csv('merged_and_sorted_area_data.csv', index=False)"
   ],
   "id": "c7ce2901e0aad9d4",
   "outputs": []
  },
  {
   "metadata": {},
   "cell_type": "code",
   "outputs": [],
   "execution_count": null,
   "source": [
    "\n",
    "# 7. 병합 및 정렬된 데이터프레임의 첫 5개 행을 출력하여 확인합니다.\n",
    "print(\"병합 및 정렬된 데이터프레임:\")\n",
    "print(final_df_sorted.head())"
   ],
   "id": "f016c2edb5f4fe44"
  }
 ],
 "metadata": {
  "kernelspec": {
   "display_name": "Python 3",
   "language": "python",
   "name": "python3"
  },
  "language_info": {
   "codemirror_mode": {
    "name": "ipython",
    "version": 2
   },
   "file_extension": ".py",
   "mimetype": "text/x-python",
   "name": "python",
   "nbconvert_exporter": "python",
   "pygments_lexer": "ipython2",
   "version": "2.7.6"
  }
 },
 "nbformat": 4,
 "nbformat_minor": 5
}
